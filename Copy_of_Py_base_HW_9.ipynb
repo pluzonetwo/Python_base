{
  "nbformat": 4,
  "nbformat_minor": 0,
  "metadata": {
    "colab": {
      "provenance": [],
      "authorship_tag": "ABX9TyP1Jn2J6ABLvlOaO7b6bmYx",
      "include_colab_link": true
    },
    "kernelspec": {
      "name": "python3",
      "display_name": "Python 3"
    },
    "language_info": {
      "name": "python"
    }
  },
  "cells": [
    {
      "cell_type": "markdown",
      "metadata": {
        "id": "view-in-github",
        "colab_type": "text"
      },
      "source": [
        "<a href=\"https://colab.research.google.com/github/pluzonetwo/Python_base/blob/main/Copy_of_Py_base_HW_9.ipynb\" target=\"_parent\"><img src=\"https://colab.research.google.com/assets/colab-badge.svg\" alt=\"Open In Colab\"/></a>"
      ]
    },
    {
      "cell_type": "code",
      "execution_count": 3,
      "metadata": {
        "id": "4Kbz5MvGl1YE"
      },
      "outputs": [],
      "source": [
        "import pandas as pd"
      ]
    },
    {
      "cell_type": "code",
      "source": [
        "df = pd.read_csv('/content/sample_data/california_housing_train.csv')"
      ],
      "metadata": {
        "id": "S_4RH_7WmpGl"
      },
      "execution_count": 4,
      "outputs": []
    },
    {
      "cell_type": "markdown",
      "source": [
        "Задача 40: Работать с файлом california_housing_train.csv, который находится в папке sample_data. Определить среднюю стоимость дома, где кол-во людей от 0 до 500 (population)."
      ],
      "metadata": {
        "id": "_xxFBkonnJaC"
      }
    },
    {
      "cell_type": "code",
      "source": [
        "df[(df['population'] < 500)]['median_house_value'].mean()"
      ],
      "metadata": {
        "id": "FQlXD2mRnKAy"
      },
      "execution_count": null,
      "outputs": []
    },
    {
      "cell_type": "markdown",
      "source": [
        "Задача 42: Узнать какая максимальная households в зоне минимального значения population."
      ],
      "metadata": {
        "id": "Oq7BT6jjoBvh"
      }
    },
    {
      "cell_type": "code",
      "source": [
        "df[(df['population'] == df['population'].min())]['households'].max()"
      ],
      "metadata": {
        "id": "2NMVbVu1oG-C"
      },
      "execution_count": null,
      "outputs": []
    }
  ]
}